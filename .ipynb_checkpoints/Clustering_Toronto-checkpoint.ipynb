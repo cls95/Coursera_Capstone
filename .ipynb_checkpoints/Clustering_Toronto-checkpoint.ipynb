{
 "cells": [
  {
   "cell_type": "markdown",
   "metadata": {},
   "source": [
    "# First dataframe"
   ]
  },
  {
   "cell_type": "code",
   "execution_count": 24,
   "metadata": {
    "scrolled": true
   },
   "outputs": [
    {
     "name": "stdout",
     "output_type": "stream",
     "text": [
      "Collecting package metadata (current_repodata.json): ...working... done\n",
      "Solving environment: ...working... \n",
      "Warning: 2 possible package resolutions (only showing differing packages):\n",
      "  - anaconda/win-64::openssl-1.1.1d-he774522_2\n",
      "  - defaults/win-64::openssl-1.1.1d-he774522_2done\n",
      "\n",
      "# All requested packages already installed.\n",
      "\n",
      "Collecting package metadata (current_repodata.json): ...working... done\n",
      "Solving environment: ...working... \n",
      "Warning: 2 possible package resolutions (only showing differing packages):\n",
      "  - anaconda/win-64::openssl-1.1.1d-he774522_2\n",
      "  - defaults/win-64::openssl-1.1.1d-he774522_2done\n",
      "\n",
      "# All requested packages already installed.\n",
      "\n",
      "Libraries imported.\n"
     ]
    }
   ],
   "source": [
    "import sys\n",
    "\n",
    "import numpy as np # library to handle data in a vectorized manner\n",
    "\n",
    "import pandas as pd # library for data analsysis\n",
    "pd.set_option('display.max_columns', None)\n",
    "pd.set_option('display.max_rows', None)\n",
    "\n",
    "import seaborn as sns # library to handle whatever\n",
    "\n",
    "# libraries to perform web scraping\n",
    "from urllib.request import urlopen\n",
    "# pip install BeautifulSoup4\n",
    "from bs4 import BeautifulSoup\n",
    "\n",
    "import json # library to handle JSON files\n",
    "\n",
    "!conda install --yes --prefix {sys.prefix} -c conda-forge geopy\n",
    "from geopy.geocoders import Nominatim # convert an address into latitude and longitude values\n",
    "\n",
    "import requests # library to handle requests\n",
    "from pandas.io.json import json_normalize # tranform JSON file into a pandas dataframe\n",
    "\n",
    "# Matplotlib and associated plotting modules\n",
    "import matplotlib.cm as cm\n",
    "import matplotlib.colors as colors\n",
    "\n",
    "# import k-means from clustering stage\n",
    "from sklearn.cluster import KMeans\n",
    "\n",
    "!conda install --yes --prefix {sys.prefix} -c conda-forge folium=0.5.0\n",
    "import folium # map rendering library\n",
    "\n",
    "print('Libraries imported.')"
   ]
  },
  {
   "cell_type": "code",
   "execution_count": 106,
   "metadata": {},
   "outputs": [],
   "source": [
    "url = 'https://en.wikipedia.org/wiki/List_of_postal_codes_of_Canada:_M'\n",
    "html = urlopen(url)"
   ]
  },
  {
   "cell_type": "code",
   "execution_count": 107,
   "metadata": {},
   "outputs": [],
   "source": [
    "soup = BeautifulSoup(html, 'html.parser')\n",
    "#type(soup)"
   ]
  },
  {
   "cell_type": "code",
   "execution_count": 108,
   "metadata": {},
   "outputs": [],
   "source": [
    "row_td = soup.find_all('td')\n",
    "#print(row_td[:5])"
   ]
  },
  {
   "cell_type": "code",
   "execution_count": 109,
   "metadata": {},
   "outputs": [],
   "source": [
    "for row in row_td[:-33]:\n",
    "    str_cells = str(row)\n",
    "\n",
    "#print(str_cells)"
   ]
  },
  {
   "cell_type": "code",
   "execution_count": 110,
   "metadata": {},
   "outputs": [],
   "source": [
    "str_cells = str(row_td[:-33])\n",
    "cleantext = BeautifulSoup(str_cells, \"html.parser\").get_text()\n",
    "#print(cleantext[:50])"
   ]
  },
  {
   "cell_type": "code",
   "execution_count": 111,
   "metadata": {},
   "outputs": [],
   "source": [
    "import re\n",
    "\n",
    "list_rows = []\n",
    "for row in row_td[:-33]:\n",
    "    str_cells = str(row)\n",
    "    clean = re.compile('<.*?>')\n",
    "    clean2 = (re.sub(clean, '', str_cells))\n",
    "    list_rows.append(clean2)\n",
    "#print(clean2)\n",
    "#type(clean2)"
   ]
  },
  {
   "cell_type": "code",
   "execution_count": 112,
   "metadata": {},
   "outputs": [],
   "source": [
    "df = pd.DataFrame(list_rows)\n",
    "#df.head()"
   ]
  },
  {
   "cell_type": "code",
   "execution_count": 113,
   "metadata": {},
   "outputs": [],
   "source": [
    "ar_df = np.array(df)\n",
    "ar_df.resize(int(len(ar_df)/3), 3)\n",
    "df1 = pd.DataFrame(ar_df)\n",
    "#df1.head()"
   ]
  },
  {
   "cell_type": "code",
   "execution_count": 114,
   "metadata": {},
   "outputs": [],
   "source": [
    "col_labels = soup.find_all('th')\n",
    "#col_labels"
   ]
  },
  {
   "cell_type": "code",
   "execution_count": 115,
   "metadata": {},
   "outputs": [],
   "source": [
    "all_header = []\n",
    "col_str = str(col_labels)\n",
    "cleantext2 = BeautifulSoup(col_str, \"html.parser\").get_text()\n",
    "all_header.append(cleantext2)\n",
    "#print(all_header)"
   ]
  },
  {
   "cell_type": "code",
   "execution_count": 116,
   "metadata": {},
   "outputs": [],
   "source": [
    "df2 = pd.DataFrame(all_header)\n",
    "#df2.head()"
   ]
  },
  {
   "cell_type": "code",
   "execution_count": 117,
   "metadata": {},
   "outputs": [],
   "source": [
    "df3 = df2[0].str.split(',', expand=True)\n",
    "#df3.head()"
   ]
  },
  {
   "cell_type": "code",
   "execution_count": 118,
   "metadata": {},
   "outputs": [],
   "source": [
    "frames = [df3, df1]\n",
    "\n",
    "df4 = pd.concat(frames)\n",
    "#df4.head(10)"
   ]
  },
  {
   "cell_type": "code",
   "execution_count": 119,
   "metadata": {},
   "outputs": [],
   "source": [
    "df5 = df4.rename(columns=df4.iloc[0])\n",
    "#df5.head()"
   ]
  },
  {
   "cell_type": "code",
   "execution_count": 129,
   "metadata": {},
   "outputs": [],
   "source": [
    "df6 = df5.replace(r'\\n', '', regex=True) \n",
    "#df6.head(10)"
   ]
  },
  {
   "cell_type": "code",
   "execution_count": 130,
   "metadata": {},
   "outputs": [],
   "source": [
    "df7 = df6.drop(df6.index[0])\n",
    "df7 = df7.drop(columns=' Canadian postal codes\\n]')\n",
    "#df7.head()"
   ]
  },
  {
   "cell_type": "code",
   "execution_count": 131,
   "metadata": {},
   "outputs": [],
   "source": [
    "df7.rename(columns={'[Postal Code\\n': 'PostalCode'},inplace=True)\n",
    "df7.rename(columns={' Borough\\n': 'Borough'},inplace=True)\n",
    "df7.rename(columns={' Neighborhood\\n': 'Neighborhood'},inplace=True)\n",
    "#df7.head()"
   ]
  },
  {
   "cell_type": "code",
   "execution_count": 136,
   "metadata": {},
   "outputs": [
    {
     "data": {
      "text/plain": [
       "(103, 3)"
      ]
     },
     "execution_count": 136,
     "metadata": {},
     "output_type": "execute_result"
    }
   ],
   "source": [
    "df8 = df7[df7.Borough != 'Not assigned']\n",
    "df8 = df8.reset_index()\n",
    "del df8['index']\n",
    "\n",
    "df8.shape"
   ]
  },
  {
   "cell_type": "markdown",
   "metadata": {},
   "source": [
    "# Second dataframe"
   ]
  },
  {
   "cell_type": "code",
   "execution_count": 22,
   "metadata": {},
   "outputs": [
    {
     "name": "stdout",
     "output_type": "stream",
     "text": [
      "Collecting package metadata (current_repodata.json): ...working... done\n",
      "Solving environment: ...working... \n",
      "Warning: 2 possible package resolutions (only showing differing packages):\n",
      "  - anaconda/win-64::openssl-1.1.1d-he774522_2\n",
      "  - defaults/win-64::openssl-1.1.1d-he774522_2done\n",
      "\n",
      "## Package Plan ##\n",
      "\n",
      "  environment location: C:\\Users\\clope\\Anaconda3\n",
      "\n",
      "  added / updated specs:\n",
      "    - geocoder\n",
      "\n",
      "\n",
      "The following packages will be downloaded:\n",
      "\n",
      "    package                    |            build\n",
      "    ---------------------------|-----------------\n",
      "    geocoder-1.38.1            |             py_1          53 KB  conda-forge\n",
      "    ratelim-0.1.6              |             py_2           6 KB  conda-forge\n",
      "    ------------------------------------------------------------\n",
      "                                           Total:          59 KB\n",
      "\n",
      "The following NEW packages will be INSTALLED:\n",
      "\n",
      "  geocoder           conda-forge/noarch::geocoder-1.38.1-py_1\n",
      "  ratelim            conda-forge/noarch::ratelim-0.1.6-py_2\n",
      "\n",
      "\n",
      "\n",
      "Downloading and Extracting Packages\n",
      "\n",
      "geocoder-1.38.1      | 53 KB     |            |   0% \n",
      "geocoder-1.38.1      | 53 KB     | ###        |  30% \n",
      "geocoder-1.38.1      | 53 KB     | ########## | 100% \n",
      "\n",
      "ratelim-0.1.6        | 6 KB      |            |   0% \n",
      "ratelim-0.1.6        | 6 KB      | ########## | 100% \n",
      "Preparing transaction: ...working... done\n",
      "Verifying transaction: ...working... done\n",
      "Executing transaction: ...working... done\n"
     ]
    }
   ],
   "source": [
    "!conda install --yes --prefix {sys.prefix} -c conda-forge geocoder\n",
    "\n",
    "import geocoder # import geocoder"
   ]
  },
  {
   "cell_type": "code",
   "execution_count": 64,
   "metadata": {},
   "outputs": [],
   "source": [
    "# initialize your variable to None\n",
    "#lat_lng_coords = None\n",
    "\n",
    "#postal_code = df8['PostalCode'][2][0:3]\n",
    "\n",
    "# loop until you get the coordinates\n",
    "#while(lat_lng_coords is None):\n",
    "#  g = geocoder.google('{}, Toronto, Ontario'.format(postal_code))\n",
    "#  lat_lng_coords = g.latlng\n",
    "\n",
    "#latitude = lat_lng_coords[0]\n",
    "#longitude = lat_lng_coords[1]"
   ]
  },
  {
   "cell_type": "code",
   "execution_count": null,
   "metadata": {},
   "outputs": [],
   "source": [
    "df9 = pd.read_csv('https://cocl.us/Geospatial_data')\n",
    "#df9.head()"
   ]
  },
  {
   "cell_type": "code",
   "execution_count": 154,
   "metadata": {},
   "outputs": [
    {
     "data": {
      "text/plain": [
       "(103, 5)"
      ]
     },
     "execution_count": 154,
     "metadata": {},
     "output_type": "execute_result"
    }
   ],
   "source": [
    "df10 = df8.sort_values(by=['PostalCode'])\n",
    "df10 = df10.reset_index()\n",
    "del df10['index']\n",
    "\n",
    "df11 = pd.concat([df10, df9], axis=1, sort=True)\n",
    "df11 = df11.drop(columns='Postal Code')\n",
    "df11.shape"
   ]
  },
  {
   "cell_type": "code",
   "execution_count": null,
   "metadata": {},
   "outputs": [],
   "source": []
  },
  {
   "cell_type": "code",
   "execution_count": null,
   "metadata": {},
   "outputs": [],
   "source": []
  },
  {
   "cell_type": "code",
   "execution_count": null,
   "metadata": {},
   "outputs": [],
   "source": []
  }
 ],
 "metadata": {
  "kernelspec": {
   "display_name": "Python 3",
   "language": "python",
   "name": "python3"
  },
  "language_info": {
   "codemirror_mode": {
    "name": "ipython",
    "version": 3
   },
   "file_extension": ".py",
   "mimetype": "text/x-python",
   "name": "python",
   "nbconvert_exporter": "python",
   "pygments_lexer": "ipython3",
   "version": "3.7.4"
  }
 },
 "nbformat": 4,
 "nbformat_minor": 2
}
